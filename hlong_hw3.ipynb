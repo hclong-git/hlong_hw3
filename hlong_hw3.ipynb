{
 "cells": [
  {
   "cell_type": "markdown",
   "metadata": {},
   "source": [
    "## COVID has had a huge impact on vehicle miles traveled (VMT) so being in the auto industry, I wanted to analyze some trends with the data. My data source appears to be a third-party site but they do say the source of the data is the Federal Highway Administration (FHA) so I feel okay about the data. This webscrape / analysis is strictly related to data in the United States."
   ]
  },
  {
   "cell_type": "code",
   "execution_count": null,
   "metadata": {},
   "outputs": [],
   "source": [
    "import requests\n",
    "from lxml import html\n",
    "import pandas as pd\n",
    "import bs4\n",
    "import numpy as np\n",
    "from pandas import Series, DataFrame\n",
    "from datetime import datetime\n",
    "from pandas import Timestamp\n",
    "from datetime import timedelta\n",
    "import matplotlib.pyplot as plt\n",
    "import seaborn as sns\n",
    "from scipy import stats\n",
    "import ipywidgets as widgets\n",
    "import plotly.express as px\n",
    "import plotly.graph_objects as go\n",
    "from ipywidgets import interact, interactive, fixed\n",
    "from IPython.display import display\n",
    "import sweetviz\n",
    "%matplotlib inline"
   ]
  },
  {
   "cell_type": "markdown",
   "metadata": {},
   "source": [
    "# Webscrape"
   ]
  },
  {
   "cell_type": "code",
   "execution_count": null,
   "metadata": {},
   "outputs": [],
   "source": [
    "VMT_URL = 'https://ycharts.com/indicators/us_monthly_total_vehicle_miles_traveled'\n",
    "VMT_page = requests.get(VMT_URL).text"
   ]
  },
  {
   "cell_type": "code",
   "execution_count": null,
   "metadata": {
    "tags": []
   },
   "outputs": [],
   "source": [
    "print(VMT_page)"
   ]
  },
  {
   "cell_type": "code",
   "execution_count": null,
   "metadata": {
    "tags": []
   },
   "outputs": [],
   "source": [
    "# Make some soup and make it taste good...well, make it pretty in this case\n",
    "\n",
    "soup_VMT = bs4.BeautifulSoup(VMT_page, 'lxml')\n",
    " \n",
    "print(soup_VMT.prettify())"
   ]
  },
  {
   "cell_type": "code",
   "execution_count": null,
   "metadata": {},
   "outputs": [],
   "source": [
    "# Pulling the title of the webpage just to make sure things are working\n",
    "\n",
    "VMT_title = soup_VMT.title\n",
    "print(VMT_title.text)"
   ]
  },
  {
   "cell_type": "code",
   "execution_count": null,
   "metadata": {},
   "outputs": [],
   "source": [
    "# Find the number of tables on the page\n",
    "\n",
    "VMT_tables = soup_VMT.find_all('table')\n",
    "len(VMT_tables)"
   ]
  },
  {
   "cell_type": "markdown",
   "metadata": {},
   "source": [
    "#### There are 12 tables on the page so I am going to capture them all and analyze their contents."
   ]
  },
  {
   "cell_type": "code",
   "execution_count": null,
   "metadata": {},
   "outputs": [],
   "source": [
    "# Capture the tables\n",
    "\n",
    "first_VMT_table = VMT_tables[0]\n",
    "second_VMT_table = VMT_tables[1]\n",
    "third_VMT_table = VMT_tables[2]\n",
    "fourth_VMT_table = VMT_tables[3]\n",
    "fifth_VMT_table = VMT_tables[4]\n",
    "sixth_VMT_table = VMT_tables[5]\n",
    "seventh_VMT_table = VMT_tables[6]\n",
    "eighth_VMT_table = VMT_tables[7]\n",
    "ninth_VMT_table = VMT_tables[8]\n",
    "tenth_VMT_table = VMT_tables[9]\n",
    "eleventh_VMT_table = VMT_tables[10]\n",
    "twelfth_VMT_table = VMT_tables[11]"
   ]
  },
  {
   "cell_type": "code",
   "execution_count": null,
   "metadata": {},
   "outputs": [],
   "source": [
    "# Find the first table and display contant \n",
    "\n",
    "first_VMT_table.contents"
   ]
  },
  {
   "cell_type": "markdown",
   "metadata": {},
   "source": [
    "#### Nope, not what I want."
   ]
  },
  {
   "cell_type": "code",
   "execution_count": null,
   "metadata": {},
   "outputs": [],
   "source": [
    "# Find the second table and display contant \n",
    "\n",
    "second_VMT_table.contents"
   ]
  },
  {
   "cell_type": "markdown",
   "metadata": {},
   "source": [
    "#### Still not what I want."
   ]
  },
  {
   "cell_type": "code",
   "execution_count": null,
   "metadata": {
    "tags": []
   },
   "outputs": [],
   "source": [
    "# Went back to the HTML output and found the table I was looking for; it is the sixth table on the page\n",
    "\n",
    "sixth_VMT_table.contents"
   ]
  },
  {
   "cell_type": "markdown",
   "metadata": {},
   "source": [
    "#### Hmmm...I know my date range goes back to 2017 so why does it stop at March 2019? I know, my other data must be in another table. Let's try the seventh table."
   ]
  },
  {
   "cell_type": "code",
   "execution_count": null,
   "metadata": {
    "tags": []
   },
   "outputs": [],
   "source": [
    "# Hope the second half of my data is in another table\n",
    "\n",
    "seventh_VMT_table.contents"
   ]
  },
  {
   "cell_type": "markdown",
   "metadata": {},
   "source": [
    "#### Ta-da, there is the other half. Looking at the HTML output, my rows are nested within \"tr\" and my headers \"Date\" and \"Values\" are nested in 'th' so let's pull all that out."
   ]
  },
  {
   "cell_type": "code",
   "execution_count": null,
   "metadata": {
    "tags": []
   },
   "outputs": [],
   "source": [
    "# Pull the rows of the table\n",
    "\n",
    "VMT_table6_rows = sixth_VMT_table.find_all('tr')\n",
    "VMT_table7_rows = seventh_VMT_table.find_all('tr')"
   ]
  },
  {
   "cell_type": "code",
   "execution_count": null,
   "metadata": {
    "tags": []
   },
   "outputs": [],
   "source": [
    "print(VMT_table6_rows[:24])"
   ]
  },
  {
   "cell_type": "code",
   "execution_count": null,
   "metadata": {
    "tags": []
   },
   "outputs": [],
   "source": [
    "print(VMT_table7_rows[:24])"
   ]
  },
  {
   "cell_type": "code",
   "execution_count": null,
   "metadata": {
    "tags": []
   },
   "outputs": [],
   "source": [
    "# Get the sixth table header row\n",
    "\n",
    "t6_header_row = VMT_table6_rows[0]\n",
    "t6_header_row"
   ]
  },
  {
   "cell_type": "code",
   "execution_count": null,
   "metadata": {
    "tags": []
   },
   "outputs": [],
   "source": [
    "# Get the seventh table header row\n",
    "\n",
    "t7_header_row = VMT_table7_rows[0]\n",
    "t7_header_row"
   ]
  },
  {
   "cell_type": "code",
   "execution_count": null,
   "metadata": {
    "tags": []
   },
   "outputs": [],
   "source": [
    "# Access header text in sixth table\n",
    "\n",
    "ths = t6_header_row.find_all('th')\n",
    "header6 = [th.text.strip() for th in ths]\n",
    "print(header6)\n",
    "print(len(header6))"
   ]
  },
  {
   "cell_type": "code",
   "execution_count": null,
   "metadata": {
    "tags": []
   },
   "outputs": [],
   "source": [
    "# Access header text in seventh table\n",
    "\n",
    "ths = t7_header_row.find_all('th')\n",
    "header7 = [th.text.strip() for th in ths]\n",
    "print(header7)\n",
    "print(len(header7))"
   ]
  },
  {
   "cell_type": "code",
   "execution_count": null,
   "metadata": {
    "tags": []
   },
   "outputs": [],
   "source": [
    "# Put the data in the sixth table in to a data frame\n",
    "\n",
    "VMT_t6_data_rows = []\n",
    "for tr in VMT_table6_rows:\n",
    "    tds = tr.find_all('td')\n",
    "    row = [td.text.replace(\"\\n\", \"\").strip() for td in tds]\n",
    "    if row:\n",
    "        VMT_t6_data_rows.append(row)\n",
    "        \n",
    "VMT_t6 = pd.DataFrame(VMT_t6_data_rows, columns = header6)\n",
    "VMT_t6"
   ]
  },
  {
   "cell_type": "code",
   "execution_count": null,
   "metadata": {},
   "outputs": [],
   "source": [
    "# Put the data in the seventh table in to a data frame\n",
    "\n",
    "VMT_t7_data_rows = []\n",
    "for tr in VMT_table7_rows:\n",
    "    tds = tr.find_all('td')\n",
    "    row = [td.text.replace(\"\\n\", \"\").strip() for td in tds]\n",
    "    if row:\n",
    "        VMT_t7_data_rows.append(row)\n",
    "        \n",
    "VMT_t7 = pd.DataFrame(VMT_t7_data_rows, columns = header7)\n",
    "VMT_t7"
   ]
  },
  {
   "cell_type": "code",
   "execution_count": null,
   "metadata": {
    "tags": []
   },
   "outputs": [],
   "source": [
    "# Combine the data frames\n",
    "\n",
    "VMT_final = VMT_t6.append(VMT_t7, ignore_index = True)\n",
    "VMT_final"
   ]
  },
  {
   "cell_type": "code",
   "execution_count": null,
   "metadata": {},
   "outputs": [],
   "source": [
    "# Convert long date to short date\n",
    "\n",
    "VMT_final['Date'] = pd.to_datetime(VMT_final['Date'])"
   ]
  },
  {
   "cell_type": "code",
   "execution_count": null,
   "metadata": {},
   "outputs": [],
   "source": [
    "# Add year and month columns\n",
    "\n",
    "VMT_final['Year'] = pd.DatetimeIndex(VMT_final['Date']).year\n",
    "VMT_final['Month'] = pd.DatetimeIndex(VMT_final['Date']).month"
   ]
  },
  {
   "cell_type": "code",
   "execution_count": null,
   "metadata": {},
   "outputs": [],
   "source": [
    "# Rename \"Value\" to VMT\n",
    "\n",
    "VMT_final.rename(columns = {\"Value\": \"VMT_in_Millions\"}, inplace=True)"
   ]
  },
  {
   "cell_type": "code",
   "execution_count": null,
   "metadata": {},
   "outputs": [],
   "source": [
    "# Determine current data types\n",
    "VMT_final.dtypes"
   ]
  },
  {
   "cell_type": "code",
   "execution_count": null,
   "metadata": {},
   "outputs": [],
   "source": [
    "# Format VMT in Millions to include a comma\n",
    "\n",
    "VMT_final[\"VMT_in_Millions\"] = pd.to_numeric(VMT_final[\"VMT_in_Millions\"])"
   ]
  },
  {
   "cell_type": "code",
   "execution_count": null,
   "metadata": {},
   "outputs": [],
   "source": [
    "# Check data type\n",
    "\n",
    "VMT_final.dtypes"
   ]
  },
  {
   "cell_type": "code",
   "execution_count": null,
   "metadata": {},
   "outputs": [],
   "source": [
    "# Add comma to VMT in Millions and remove the decimal point\n",
    "\n",
    "pd.options.display.float_format = '{:,.0f}'.format"
   ]
  },
  {
   "cell_type": "code",
   "execution_count": null,
   "metadata": {
    "tags": []
   },
   "outputs": [],
   "source": [
    "VMT_final"
   ]
  },
  {
   "cell_type": "code",
   "execution_count": null,
   "metadata": {},
   "outputs": [],
   "source": [
    "VMT_final.set_index(\"Date\",drop=False,inplace=True)"
   ]
  },
  {
   "cell_type": "code",
   "execution_count": null,
   "metadata": {},
   "outputs": [],
   "source": [
    "VMT_final"
   ]
  },
  {
   "cell_type": "code",
   "execution_count": null,
   "metadata": {},
   "outputs": [],
   "source": [
    "# Send data to CSV\n",
    "\n",
    "VMT_final.to_csv(\"output/VMT_final.csv\")"
   ]
  },
  {
   "cell_type": "code",
   "execution_count": null,
   "metadata": {},
   "outputs": [],
   "source": [
    "VMT_final.dtypes"
   ]
  },
  {
   "cell_type": "code",
   "execution_count": null,
   "metadata": {},
   "outputs": [],
   "source": [
    "# Not sure why I would need this when I added Year and Month to the main data frame. Commenting it out for now, may come back to it.\n",
    "\n",
    "# Create yearly data frames to do some year over year comparisons\n",
    "\n",
    "# VMT_2017 = VMT_final.loc[39:49] # does not contain January \n",
    "# VMT_2018 = VMT_final.loc[38:27] # January - December\n",
    "# VMT_2019 = VMT_final.loc[15:26] # January - December\n",
    "# VMT_2020 = VMT_final.loc[3:14] # January - December\n",
    "# VMT_2021_YTD = VMT_final.loc[0:2] # January - March"
   ]
  },
  {
   "cell_type": "markdown",
   "metadata": {},
   "source": [
    "# EDA"
   ]
  },
  {
   "cell_type": "markdown",
   "metadata": {},
   "source": [
    "#### Right now I have my data frame(s) where I want it. I'll edit as needed throughout the workbook but I think I am ready for some data analysis. Let's start with some statistics."
   ]
  },
  {
   "cell_type": "markdown",
   "metadata": {},
   "source": [
    "#### I am not expecting sweetviz to show anything helpful, but I liked it when we used it in HW1 so let's see what the output is."
   ]
  },
  {
   "cell_type": "code",
   "execution_count": null,
   "metadata": {},
   "outputs": [],
   "source": [
    "report = sweetviz.analyze(VMT_final)\n",
    "report.show_html(\"output/sweetviz_report.html\")"
   ]
  },
  {
   "cell_type": "markdown",
   "metadata": {},
   "source": [
    "#### As expected, not great but it does tell me I have missing values (which I already knew since I don't have data for April - December in 2021 but all other years have this data). Sweetviz did show some association between Month and VMT which we already gathered from the charts above. Since sweetviz was not too insightful let's do our own data analysis."
   ]
  },
  {
   "cell_type": "code",
   "execution_count": null,
   "metadata": {
    "tags": []
   },
   "outputs": [],
   "source": [
    "# Look at basic statistics by year\n",
    "\n",
    "summary_stats_year = VMT_final.groupby(['Year'])['VMT_in_Millions']\n",
    "summary_stats_year.describe()"
   ]
  },
  {
   "cell_type": "code",
   "execution_count": null,
   "metadata": {
    "tags": []
   },
   "outputs": [],
   "source": [
    "summary_stats_year.describe().to_csv(\"output/year_summary.csv\") # I thought this might be cool to use as a widget but I was wrong"
   ]
  },
  {
   "cell_type": "markdown",
   "metadata": {},
   "source": [
    "#### We have three full years of data between 2018 - 2020 so just looking at those years, you can see how Covid impacted VMT."
   ]
  },
  {
   "cell_type": "markdown",
   "metadata": {},
   "source": [
    "#### Another way to look at the data would be to reivew stats by month rather than year. "
   ]
  },
  {
   "cell_type": "code",
   "execution_count": null,
   "metadata": {
    "tags": []
   },
   "outputs": [],
   "source": [
    "# Look at basic statistics by month\n",
    "\n",
    "summary_stats_month = VMT_final.groupby(['Month'])['VMT_in_Millions']\n",
    "summary_stats_month.describe()"
   ]
  },
  {
   "cell_type": "code",
   "execution_count": null,
   "metadata": {
    "tags": []
   },
   "outputs": [],
   "source": [
    "summary_stats_month.describe().to_csv(\"output/month_summary.csv\") # I thought this might be cool to use as a widget but I was wrong"
   ]
  },
  {
   "cell_type": "markdown",
   "metadata": {},
   "source": [
    "#### The average VMT by month looks normal but the standard deviation in March, April, and May are drastically different than other months. These months were impacted by Covid so it is probably a driving factor within these months. On average, May - August appear to have the most miles traveled. This would make sense due to spring break and summer vacations.\n",
    "\n",
    "#### .describe() does not show the median so I actually went back to my sweetviz output and the overal median VMT is 260K which is in line with the monthly statistics output. The boxplot below (as well as .median()) also shows a similar median. The boxplot also shows the outlier in 2020 when VMT fell to approx. 165K in April 2020."
   ]
  },
  {
   "cell_type": "code",
   "execution_count": null,
   "metadata": {
    "tags": []
   },
   "outputs": [],
   "source": [
    "# Create boxplot to show median\n",
    "\n",
    "sns.boxplot(data=VMT_final[\"VMT_in_Millions\"])"
   ]
  },
  {
   "cell_type": "code",
   "execution_count": null,
   "metadata": {},
   "outputs": [],
   "source": [
    "VMT_final['VMT_in_Millions'].median()"
   ]
  },
  {
   "cell_type": "markdown",
   "metadata": {},
   "source": [
    "#### Some basic insights / things to note here:\n",
    "\n",
    "-  2017 is only February - December\n",
    "-  2018 - 2020 is January - December\n",
    "-  2021 is only January - March\n",
    "-  Avg VMT sat around 230M / month until it dropped in 2020"
   ]
  },
  {
   "cell_type": "code",
   "execution_count": null,
   "metadata": {
    "tags": []
   },
   "outputs": [],
   "source": [
    "# Creating a histogram to see how the data is distributed as a whole\n",
    "\n",
    "sns.displot(kde=True,bins=5,data=VMT_final['VMT_in_Millions'])\n",
    "\n",
    "# VMT tends to be +260K"
   ]
  },
  {
   "cell_type": "markdown",
   "metadata": {},
   "source": [
    "#### Let's see what the data actually looks like by using some charts."
   ]
  },
  {
   "cell_type": "code",
   "execution_count": null,
   "metadata": {
    "tags": []
   },
   "outputs": [],
   "source": [
    "fig, ax1 = plt.subplots(figsize = (20,5))\n",
    "\n",
    "# Plot line graph\n",
    "\n",
    "chart1 = sns.lineplot(x = \"Date\", y = \"VMT_in_Millions\", data = VMT_final)\n",
    "\n",
    "# Format x-axis\n",
    "\n",
    "\n",
    "ax1.set_xlabel(\"Date\" , size = 14)\n",
    "ax1.set(xticks=VMT_final.Date.values)\n",
    "chart1.set_xticklabels(labels = VMT_final['Date'].dt.strftime('%Y-%m'), rotation=45)\n",
    "\n",
    "# Format y-axis\n",
    "\n",
    "ax1.set_ylabel(\"VMT (in Millions)\" , size = 14)\n",
    "ax1.yaxis.set_major_formatter('{x:1,.0f}')\n",
    "\n",
    "# Create chart title\n",
    "\n",
    "ax1.set_title( \"Vehicle Miles Traveled (VMT)\" , size = 16)"
   ]
  },
  {
   "cell_type": "markdown",
   "metadata": {},
   "source": [
    "#### VMT appears to be seasonal; around November/December, VMT starts to decline but it could be due to the holiday season. VMT picks back up in January in to April which could be due to vacations (especially March/April as those are spring break months). These trends were consistent in 2017 to 2019 but once March 2020 hit and the lockdowns started to happen, VMT took a nose dive. VMT did not recover until late summer but then followed the same decline in November/December and started to rebound at the new year.\n",
    "\n",
    "#### I'll plot the seasonality for kicks and giggles."
   ]
  },
  {
   "cell_type": "code",
   "execution_count": null,
   "metadata": {
    "tags": []
   },
   "outputs": [],
   "source": [
    "# Pivot the data frame to a wide-form representation of the data\n",
    "\n",
    "VMT_wide = VMT_final.pivot(\"Month\", \"Year\", \"VMT_in_Millions\") # did not do .fillna() because it messed with my graph -\n",
    "                                                                # it did not include any columns with missing data\n",
    "VMT_wide"
   ]
  },
  {
   "cell_type": "code",
   "execution_count": null,
   "metadata": {
    "tags": []
   },
   "outputs": [],
   "source": [
    "fig, ax2 = plt.subplots(figsize = (10,5))\n",
    "\n",
    "# Plot line graph\n",
    "\n",
    "sns.lineplot(data=VMT_wide)\n",
    "\n",
    "# Format y-axis\n",
    "\n",
    "ax2.set_ylabel(\"VMT (in Millions)\", size = 12)\n",
    "ax2.yaxis.set_major_formatter('{x:1,.0f}')\n",
    "\n",
    "# Create chart title\n",
    "\n",
    "ax2.set_title( \"Vehicle Miles Traveled (VMT) by Year\" , size = 16)"
   ]
  },
  {
   "cell_type": "markdown",
   "metadata": {},
   "source": [
    "#### Really interesting how VMT between 2017 - 2021 basically followed the same tread year over year; even with Covid, the 2020 trendline was extremely similar to other years. VMT grew every year but no major changes to the actual trendline."
   ]
  },
  {
   "cell_type": "markdown",
   "metadata": {},
   "source": [
    "#### I did replace the missing values with the median but all it did was create a flat line for April - December 2021 and I didn't like the look so I took it out. If I was a real whiz with Python, I would take the average VMT by month (probably excluding 2020 because it is an an anomoly) and put that in for 2021 missing values."
   ]
  },
  {
   "cell_type": "markdown",
   "metadata": {},
   "source": [
    "# Enter widgets...I tried, I promise."
   ]
  },
  {
   "cell_type": "markdown",
   "metadata": {},
   "source": [
    "#### I tried over and over again to get this widget to work but I can't. I didn't use my VMT_final data frame because I did not want someone to be able to select VMT as a selector. I tried to create a chart that allowed you to look at one year and X months at a time. I even tried to use widget.SelectMultiple so you could choose multiple years but I didn't work and maybe it does not like the VMT_wide data frame because I transformed it in to a pivot."
   ]
  },
  {
   "cell_type": "code",
   "execution_count": null,
   "metadata": {
    "tags": []
   },
   "outputs": [],
   "source": [
    "# Create year drop down widget\n",
    "\n",
    "year_data_cols = VMT_wide.columns.to_list()\n",
    "\n",
    "year_range = widgets.Dropdown(\n",
    "    options=year_data_cols,\n",
    "    description='Year'\n",
    ")"
   ]
  },
  {
   "cell_type": "code",
   "execution_count": null,
   "metadata": {
    "tags": []
   },
   "outputs": [],
   "source": [
    "# Create month range widget\n",
    "\n",
    "style = {'description_width': 'initial'}\n",
    "\n",
    "month_range = widgets.FloatRangeSlider(\n",
    "    value=[1, 12],\n",
    "    min=1,\n",
    "    max=12,\n",
    "    step=1,\n",
    "    description=r'Month',\n",
    "    disabled=False,\n",
    "    continuous_update=False,\n",
    "    orientation='horizontal',\n",
    "    readout=True,\n",
    "    readout_format='.0f',\n",
    "    style=style\n",
    ")"
   ]
  },
  {
   "cell_type": "code",
   "execution_count": null,
   "metadata": {
    "tags": []
   },
   "outputs": [],
   "source": [
    "# Create interactive plot\n",
    "\n",
    "def dates_plot(year, month):\n",
    "    \n",
    "    # sns.lineplot(data=VMT_wide) # it doesnt work with this line either\n",
    "    plt.rcParams[\"figure.figsize\"] = (10,3)\n",
    "    plt.figure(1)\n",
    "    plt.plot(VMT_wide) \n",
    "    plt.xlabel('Month')\n",
    "    plt.ylabel('VMT')\n",
    "    plt.title('Vehcile Miles Traveled (VMT) by Year')\n",
    "    plt.show()\n",
    "\n",
    "interactive_plot = interactive(dates_plot, year=year_range, month=month_range);\n",
    "interactive_plot"
   ]
  },
  {
   "cell_type": "markdown",
   "metadata": {},
   "source": [
    "#### This widget is not as \"complex\" as the one above but it works for year using the VMT_wide data frame. However if I were an end user, I would rather look at the initial line graphs I created rather than use this widget...had I been able to figure out how to do the above widget, it would probably be more helpful/interesting/insightful."
   ]
  },
  {
   "cell_type": "code",
   "execution_count": null,
   "metadata": {
    "tags": []
   },
   "outputs": [],
   "source": [
    "# Create year drop down widget\n",
    "\n",
    "year_data_cols_2 = VMT_wide.columns.to_list()\n",
    "\n",
    "year_range_2 = widgets.Dropdown(\n",
    "    options=year_data_cols_2,\n",
    "    description='Year'\n",
    ")\n",
    "\n",
    "# Create interactive plot \n",
    "\n",
    "def create_line_2(year_2):\n",
    "    plt.rcParams[\"figure.figsize\"] = (10,3)\n",
    "    plt.plot(VMT_wide[year_2])\n",
    "    plt.xlabel('Month')\n",
    "    plt.ylabel('VMT')\n",
    "    plt.title('Vehicle Miles Traveled by Year')\n",
    "    plt.show()\n",
    "    \n",
    "widgets.interact(create_line_2, year_2=year_range_2);"
   ]
  },
  {
   "cell_type": "markdown",
   "metadata": {
    "tags": []
   },
   "source": [
    "#### I was pretty bummed about the widget not working so I went to Google to look up some other data analysis and I found someone who did a rolling average interaction and I decided to try it. They used \"@ interact\" rather than the interact/interactive method."
   ]
  },
  {
   "cell_type": "code",
   "execution_count": null,
   "metadata": {},
   "outputs": [],
   "source": [
    "@ interact\n",
    "\n",
    "# n indicates month, I have 50 months\n",
    "\n",
    "def plot(n=(1, 49)):\n",
    "        fig, ax = plt.subplots(1, 1, figsize=(12,4))\n",
    "        VMT_final['VMT_in_Millions'].rolling(window=n).mean().plot(ax=ax)\n",
    "        ax.set_title( \"Vehicle Miles Traveled (VMT) - Rolling Average\" , size = 14)\n",
    "        ax.set_ylabel(\"VMT (in Millions)\", size = 12)\n",
    "        ax.set_ylim(150000, 300000)\n",
    "        ax.autoscale(enable=True, axis='x', tight=True)\n",
    "        ax.yaxis.set_major_formatter('{x:1,.0f}')\n",
    "        fig.autofmt_xdate()\n",
    "        plt.show()"
   ]
  },
  {
   "cell_type": "markdown",
   "metadata": {},
   "source": [
    "#### So if you start at n=1 you'll see the standard chart with the actual data. However once you move to n=3, the line/data for 2021 drops off because a rolling average cannot be calculated (that was my test to make sure it worked).\n",
    "\n",
    "#### 2017 will appear on the X axis once n hits 40; this is because I have 'tight=True.' When I change it to 'tight=False,' the chart starts at January 2017 but my data does not start until February 2017 so 'tight=True' kept the x-axis from going back to January if you set n equal to 49."
   ]
  },
  {
   "cell_type": "code",
   "execution_count": null,
   "metadata": {},
   "outputs": [],
   "source": []
  }
 ],
 "metadata": {
  "kernelspec": {
   "display_name": "Python 3",
   "language": "python",
   "name": "python3"
  },
  "language_info": {
   "codemirror_mode": {
    "name": "ipython",
    "version": 3
   },
   "file_extension": ".py",
   "mimetype": "text/x-python",
   "name": "python",
   "nbconvert_exporter": "python",
   "pygments_lexer": "ipython3",
   "version": "3.7.10"
  }
 },
 "nbformat": 4,
 "nbformat_minor": 4
}
